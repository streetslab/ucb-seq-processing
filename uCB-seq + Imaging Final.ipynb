{
 "cells": [
  {
   "cell_type": "markdown",
   "metadata": {},
   "source": [
    "# uCB-seq HEK and PreAD Imaging Final"
   ]
  },
  {
   "cell_type": "markdown",
   "metadata": {},
   "source": [
    "___"
   ]
  },
  {
   "cell_type": "markdown",
   "metadata": {},
   "source": [
    "## Load Packages:"
   ]
  },
  {
   "cell_type": "code",
   "execution_count": 1,
   "metadata": {
    "code_folding": [
     0
    ]
   },
   "outputs": [],
   "source": [
    "suppressWarnings(suppressMessages({\n",
    "    library(rbin)\n",
    "    library(data.table)\n",
    "    library(scater)\n",
    "    library(tidyverse)\n",
    "    library(annotables)\n",
    "    library(SummarizedExperiment)\n",
    "    library(RColorBrewer)\n",
    "    library(SingleCellExperiment)\n",
    "    library(DescTools)\n",
    "    library(gplots)\n",
    "    library(eulerr)\n",
    "    library(grid)\n",
    "    library(gridExtra) \n",
    "    library(GenomicFeatures)\n",
    "    library(GenomicRanges)\n",
    "    library(BSgenome)\n",
    "    }))"
   ]
  },
  {
   "cell_type": "markdown",
   "metadata": {},
   "source": [
    "## Temporary Functions"
   ]
  },
  {
   "cell_type": "code",
   "execution_count": 2,
   "metadata": {},
   "outputs": [],
   "source": [
    "setwd('C:/Users/tyler/Desktop/Downsampled zUMIs/out/uCBSeqHEK/zUMIs_output/expression')\n",
    "uCBSeqHEK <- readRDS('uCBSeqHEK.dgecounts.rds')\n",
    "\n",
    "setwd('C:/Users/tyler/Desktop/Downsampled zUMIs/out/uCBSeqHEKPreAD/zUMIs_output/expression')\n",
    "uCBSeqHEKPreAD <- readRDS('uCBSeqHEKPreAD.dgecounts.rds')\n",
    "\n",
    "setwd('C:/Users/tyler/Desktop/Downsampled zUMIs/out/uCBSeqPreAD/zUMIs_output/expression')\n",
    "uCBSeqPreAD <- readRDS('uCBSeqPreAD.dgecounts.rds')"
   ]
  },
  {
   "cell_type": "markdown",
   "metadata": {},
   "source": [
    "## Preanalysis Processing"
   ]
  },
  {
   "cell_type": "code",
   "execution_count": 3,
   "metadata": {
    "code_folding": [
     0
    ]
   },
   "outputs": [
    {
     "name": "stdout",
     "output_type": "stream",
     "text": [
      "[1] \"There are 0 duplicate genes in dedup_grch38!\"\n"
     ]
    }
   ],
   "source": [
    "# Remove duplicate genes in dedup_grch38.\n",
    "toRemove <- vector()\n",
    "last <- 1\n",
    "for (i in 2:(nrow(grch38))) {\n",
    "    if (grch38[i,1] == grch38[i - 1,1]) {\n",
    "        toRemove[last] <- i\n",
    "        last <- last + 1\n",
    "    }\n",
    "}\n",
    "\n",
    "# Create deuplicated grch38\n",
    "dedup_grch38 <- grch38[-toRemove,]\n",
    "\n",
    "# Check for duplicates in dedup_grch38\n",
    "postDupCount <- 0\n",
    "for (i in 1:(nrow(dedup_grch38) - 1)) {\n",
    "    if (dedup_grch38[i,1] == dedup_grch38[i + 1,1]) {\n",
    "        postDupCount <- postDupCount + 1\n",
    "    }\n",
    "}\n",
    "print(paste0(\"There are \", postDupCount, \" duplicate genes in dedup_grch38!\"))"
   ]
  },
  {
   "cell_type": "markdown",
   "metadata": {},
   "source": [
    "___"
   ]
  },
  {
   "cell_type": "markdown",
   "metadata": {},
   "source": [
    "# Set Parameters for Analysis"
   ]
  },
  {
   "cell_type": "code",
   "execution_count": 4,
   "metadata": {
    "code_folding": [
     6
    ]
   },
   "outputs": [],
   "source": [
    "# Initialize samples, barcodes, and sampleslist\n",
    "experiment <- 'All Comparisons'\n",
    "samples <- c('uCBSeqHEKPreAD', 'uCBSeqHEK', 'uCBSeqPreAD')\n",
    "barcodesHEKPreAD <- c('TCACAGCA', 'GTAGCACT', 'ATAGCGTC', 'TGCTACAG','CGCTATGA', 'CATCGTGA', 'GGCATTGT')\n",
    "barcodesHEK <- c('TCACAGCA', 'GTAGCACT', 'TGCTACAG','CGCTATGA', 'ATGCACGT', 'TATGCACG', 'CATCGTGA', 'GGCATTGT')\n",
    "barcodesPreAD <- c('TCACAGCA', 'GTAGCACT', 'CGCTATGA', 'ATGCACGT', 'TATGCACG', 'CATCGTGA', 'GGCATTGT') \n",
    "HEKPreADSamplesList <- c('HEKPreAD_TCACAGCA', 'HEKPreAD_GTAGCACT', 'HEKPreAD_ATAGCGTC', 'HEKPreAD_TGCTACAG','HEKPreAD_CGCTATGA', 'HEKPreAD_CATCGTGA', 'HEKPreAD_GGCATTGT')\n",
    "HEKSamplesList <- c('HEK_TCACAGCA', 'HEK_GTAGCACT', 'HEK_TGCTACAG','HEK_CGCTATGA', 'HEK_ATGCACGT', 'HEK_TATGCACG', 'HEK_CATCGTGA', 'HEK_GGCATTGT')\n",
    "PreADSamplesList <- c('PreAD_TCACAGCA', 'PreAD_GTAGCACT', 'PreAD_CGCTATGA', 'PreAD_ATGCACGT', 'PreAD_TATGCACG', 'PreAD_CATCGTGA', 'PreAD_GGCATTGT') \n",
    "\n",
    "# Initialize Samples List\n",
    "samplesList <- NULL\n",
    "i <- 1\n",
    "for (sample in samples) {\n",
    "    if (sample == \"uCBSeqHEKPreAD\") {\n",
    "        for (barcode in barcodesHEKPreAD) {\n",
    "            eval(parse(text = paste0('samplesList[i] <- ', \"'\", sample, \"_\", barcode, \"'\")))\n",
    "            i  <- i + 1\n",
    "        }\n",
    "    } else if (sample == \"uCBSeqHEK\") {\n",
    "        for (barcode in barcodesHEK) {\n",
    "            eval(parse(text = paste0('samplesList[i] <- ', \"'\", sample, \"_\", barcode, \"'\")))\n",
    "            i  <- i + 1\n",
    "        }  \n",
    "    } else if (sample == \"uCBSeqPreAD\") {\n",
    "            for (barcode in barcodesPreAD) {\n",
    "            eval(parse(text = paste0('samplesList[i] <- ', \"'\", sample, \"_\", barcode, \"'\")))\n",
    "            i  <- i + 1\n",
    "        }  \n",
    "    }\n",
    "\n",
    "}\n",
    "\n",
    "# Initialize Negatives List\n",
    "fullNegList <- c()"
   ]
  },
  {
   "cell_type": "code",
   "execution_count": 5,
   "metadata": {},
   "outputs": [],
   "source": [
    "# Looking at exon, intron, or intron and exon (intron.exon)\n",
    "lookAt <- 'inex'"
   ]
  },
  {
   "cell_type": "code",
   "execution_count": 6,
   "metadata": {},
   "outputs": [],
   "source": [
    "# Downsampling value to use for primary analysis\n",
    "downsamplingSC <- '125000'"
   ]
  },
  {
   "cell_type": "markdown",
   "metadata": {},
   "source": [
    "# Input Experimental Data"
   ]
  },
  {
   "cell_type": "code",
   "execution_count": 7,
   "metadata": {
    "code_folding": [
     7
    ]
   },
   "outputs": [],
   "source": [
    "# Initialize colData\n",
    "colDataNames <- c('Sample_ID', 'Cell_ID', 'NCells', 'Format', 'TotalReads', 'AlignedReads', 'AlignedFrac', 'AlignedReadsExon', \n",
    "                    'ExonFrac', 'AlignedReadsIntron', 'IntronFrac', 'AlignedReadsIntergenic', 'IntergenicFrac', 'GenesDetected', \n",
    "                    'UMIsDetected')\n",
    "\n",
    "# Initialize Cell ID, input, etc. \n",
    "Cell_ID <- rep('HEKPreAD', length(samplesList))\n",
    "NCells <- c(rep('Single Cell', length(samplesList)))\n",
    "Format <- c(rep('uCB-seq', length(samplesList)))\n",
    "\n",
    "\n",
    "# Initialize colData to fill in\n",
    "TotalReads  <- double(length = length(samplesList))\n",
    "AlignedReads <- double(length = length(samplesList))\n",
    "AlignedFrac <- double(length = length(samplesList))\n",
    "AlignedReadsExon <- double(length = length(samplesList))\n",
    "ExonFrac <- double(length = length(samplesList))\n",
    "AlignedReadsIntron <- double(length = length(samplesList))\n",
    "IntronFrac <- double(length = length(samplesList))\n",
    "AlignedReadsIntergenic <- double(length = length(samplesList))\n",
    "IntergenicFrac <- double(length = length(samplesList))\n",
    "AlignedReadsAmbiguous <- double(length = length(samplesList))\n",
    "AmbiguousFrac <- double(length = length(samplesList))\n",
    "GenesDetected <- double(length = length(samplesList))\n",
    "UMIsDetected  <- double(length = length(samplesList))\n",
    "\n",
    "# Initialize metaData\n",
    "metaDataNames <- c('Experiment', 'Sample_ID')\n",
    "Experiment <- c(rep('uCBSeqHEKPreAD', length(barcodesHEKPreAD)), rep('uCBSeqHEK', length(barcodesHEK)), rep('uCBSeqPreAD', length(barcodesPreAD)))\n",
    "Sample_ID <- samplesList"
   ]
  },
  {
   "cell_type": "markdown",
   "metadata": {},
   "source": [
    "___"
   ]
  },
  {
   "cell_type": "markdown",
   "metadata": {},
   "source": [
    "## Build Expression Matrix from Sequencing Dataset"
   ]
  },
  {
   "cell_type": "markdown",
   "metadata": {},
   "source": [
    "### Creating Individual Expression Matrices for All Samples as \"______Counts\""
   ]
  },
  {
   "cell_type": "code",
   "execution_count": 8,
   "metadata": {
    "code_folding": []
   },
   "outputs": [],
   "source": [
    "# Create all individual expression matrices\n",
    "\n",
    "i = 0\n",
    "for (sample in samples) {\n",
    "    if (sample == \"uCBSeqHEKPreAD\") {\n",
    "        setwd(paste0(\"C:/Users/tyler/Desktop/Downsampled zUMIs/out/uCBSeqHEKPreAD/zUMIs_output/expression\"))\n",
    "        matrixName <- paste0(sample, '_', 'Counts')\n",
    "        fileName <- paste0(sample, '.dgecounts.rds')\n",
    "        eval(parse(text = paste0(matrixName, \" <- readRDS(\",\"'\", fileName, \"'\", \")\")))\n",
    "        for (barcode in barcodesHEKPreAD) {\n",
    "            umiCountsName <- paste0(sample, '_', barcode, '_', 'UMICounts')\n",
    "            umiFieldsName <- paste0(matrixName, \"$umicount$\", lookAt, \"$downsampling$downsampled_\", downsamplingSC, \"[,\", \"'\", barcode, \"']\")\n",
    "            eval(parse(text = paste0(umiCountsName, \" <- as.matrix(\", umiFieldsName, \")\")))\n",
    "\n",
    "            readCountsName <- paste0(sample, '_', barcode, '_', 'ReadCounts')\n",
    "            readFieldsName <- paste0(matrixName, \"$readcount$\", lookAt, \"$downsampling$downsampled_\", downsamplingSC, \"[,\", \"'\", barcode, \"']\")\n",
    "            eval(parse(text = paste0(readCountsName, \" <- as.matrix(\", readFieldsName, \")\")))\n",
    "        }\n",
    "    } else if (sample == \"uCBSeqHEK\") {\n",
    "        setwd(paste0(\"C:/Users/tyler/Desktop/Downsampled zUMIs/out/uCBSeqHEK/zUMIs_output/expression\"))\n",
    "        matrixName <- paste0(sample, '_', 'Counts')\n",
    "        fileName <- paste0(sample, '.dgecounts.rds')\n",
    "        eval(parse(text = paste0(matrixName, \" <- readRDS(\",\"'\", fileName, \"'\", \")\")))\n",
    "        for (barcode in barcodesHEK) {\n",
    "            if (barcode == \"CGCTATGA\") {\n",
    "                umiCountsName <- paste0(sample, '_', barcode, '_', 'UMICounts')\n",
    "                umiFieldsName <- paste0(matrixName, \"$umicount$\", lookAt, \"$all[,\", \"'\", barcode, \"']\")\n",
    "                eval(parse(text = paste0(umiCountsName, \" <- as.matrix(\", umiFieldsName, \")\")))\n",
    "\n",
    "                readCountsName <- paste0(sample, '_', barcode, '_', 'ReadCounts')\n",
    "                readFieldsName <- paste0(matrixName, \"$readcount$\", lookAt, \"$all[,\", \"'\", barcode, \"']\")\n",
    "                eval(parse(text = paste0(readCountsName, \" <- as.matrix(\", readFieldsName, \")\")))\n",
    "            } else {\n",
    "                umiCountsName <- paste0(sample, '_', barcode, '_', 'UMICounts')\n",
    "                umiFieldsName <- paste0(matrixName, \"$umicount$\", lookAt, \"$downsampling$downsampled_\", downsamplingSC, \"[,\", \"'\", barcode, \"']\")\n",
    "                eval(parse(text = paste0(umiCountsName, \" <- as.matrix(\", umiFieldsName, \")\")))\n",
    "\n",
    "                readCountsName <- paste0(sample, '_', barcode, '_', 'ReadCounts')\n",
    "                readFieldsName <- paste0(matrixName, \"$readcount$\", lookAt, \"$downsampling$downsampled_\", downsamplingSC, \"[,\", \"'\", barcode, \"']\")\n",
    "                eval(parse(text = paste0(readCountsName, \" <- as.matrix(\", readFieldsName, \")\")))\n",
    "            }\n",
    "        }\n",
    "    } else if (sample == \"uCBSeqPreAD\") {\n",
    "        setwd(paste0(\"C:/Users/tyler/Desktop/Downsampled zUMIs/out/uCBSeqPreAD/zUMIs_output/expression\"))\n",
    "        matrixName <- paste0(sample, '_', 'Counts')\n",
    "        fileName <- paste0(sample, '.dgecounts.rds')\n",
    "        eval(parse(text = paste0(matrixName, \" <- readRDS(\",\"'\", fileName, \"'\", \")\")))\n",
    "        for (barcode in barcodesPreAD) {\n",
    "            if (barcode == \"ATGCACGT\") {\n",
    "                umiCountsName <- paste0(sample, '_', barcode, '_', 'UMICounts')\n",
    "                umiFieldsName <- paste0(matrixName, \"$umicount$\", lookAt, \"$all[,\", \"'\", barcode, \"']\")\n",
    "                eval(parse(text = paste0(umiCountsName, \" <- as.matrix(\", umiFieldsName, \")\")))\n",
    "\n",
    "                readCountsName <- paste0(sample, '_', barcode, '_', 'ReadCounts')\n",
    "                readFieldsName <- paste0(matrixName, \"$readcount$\", lookAt, \"$all[,\", \"'\", barcode, \"']\")\n",
    "                eval(parse(text = paste0(readCountsName, \" <- as.matrix(\", readFieldsName, \")\")))\n",
    "            } else {\n",
    "                umiCountsName <- paste0(sample, '_', barcode, '_', 'UMICounts')\n",
    "                umiFieldsName <- paste0(matrixName, \"$umicount$\", lookAt, \"$downsampling$downsampled_\", downsamplingSC, \"[,\", \"'\", barcode, \"']\")\n",
    "                eval(parse(text = paste0(umiCountsName, \" <- as.matrix(\", umiFieldsName, \")\")))\n",
    "\n",
    "                readCountsName <- paste0(sample, '_', barcode, '_', 'ReadCounts')\n",
    "                readFieldsName <- paste0(matrixName, \"$readcount$\", lookAt, \"$downsampling$downsampled_\", downsamplingSC, \"[,\", \"'\", barcode, \"']\")\n",
    "                eval(parse(text = paste0(readCountsName, \" <- as.matrix(\", readFieldsName, \")\")))\n",
    "            }\n",
    "        }\n",
    "    }\n",
    "}"
   ]
  },
  {
   "cell_type": "markdown",
   "metadata": {},
   "source": [
    "### Building Master UMI Expression Matrix and Master Readcount Expression Matrix"
   ]
  },
  {
   "cell_type": "code",
   "execution_count": 9,
   "metadata": {},
   "outputs": [],
   "source": [
    "# Initialize namesList with first sample\n",
    "eval(parse(text = paste0(\"namesList <- names(\", samplesList[1], \"_UMICounts[,1])\")))\n",
    "\n",
    "# Iteratively add genes present in samples but missing from namesList until namesList is fully populated\n",
    "for (sample in samples) {\n",
    "    if (sample == \"uCBSeqHEKPreAD\") {\n",
    "        for (barcode in barcodesHEKPreAD) {\n",
    "            if (sample == samples[1] & barcode == barcodesHEKPreAD[1]) {\n",
    "            } else {\n",
    "                eval(parse(text = paste0(\"namesList <- c(namesList, names(\", sample, \"_\", barcode, \n",
    "                                         \"_UMICounts[,1])[!names(\", sample, \"_\", barcode, \n",
    "                                         \"_UMICounts[,1]) %in% namesList])\")))\n",
    "            }\n",
    "        }\n",
    "    } else if (sample == \"uCBSeqHEK\") {\n",
    "        for (barcode in barcodesHEK) {\n",
    "            if (sample == samples[1] & barcode == barcodesHEK[1]) {\n",
    "            } else {\n",
    "                eval(parse(text = paste0(\"namesList <- c(namesList, names(\", sample, \"_\", barcode, \n",
    "                                         \"_UMICounts[,1])[!names(\", sample, \"_\", barcode, \n",
    "                                         \"_UMICounts[,1]) %in% namesList])\")))\n",
    "            }\n",
    "        }\n",
    "    } else if (sample == \"uCBSeqPreAD\") {\n",
    "        for (barcode in barcodesPreAD) {\n",
    "            if (sample == samples[1] & barcode == barcodesPreAD[1]) {\n",
    "            } else {\n",
    "                eval(parse(text = paste0(\"namesList <- c(namesList, names(\", sample, \"_\", barcode, \n",
    "                                         \"_UMICounts[,1])[!names(\", sample, \"_\", barcode, \n",
    "                                         \"_UMICounts[,1]) %in% namesList])\")))\n",
    "            }\n",
    "        }\n",
    "    }\n",
    "}\n",
    "\n",
    "# Do the same for bulk HEK sample\n",
    "setwd(\"C:/Users/tyler/Desktop/Downsampled zUMIs/out/HEK_Bulk/\")\n",
    "temp <- as.matrix(read.csv('HEK_Bulk.csv'))\n",
    "bulkMatrix <- as.numeric(as.matrix(temp[,3]))\n",
    "# Establish ENSG ID as rownames\n",
    "names(bulkMatrix) <- temp[,1]\n",
    "# Add bulk genes to namesList\n",
    "namesList <- c(namesList, names(bulkMatrix)[!names(bulkMatrix) %in% namesList])\n",
    "\n",
    "# Sort namesList\n",
    "namesList <- sort(namesList)\n",
    "\n",
    "# Create matrix with all zeros containing all names for comparison against all samples\n",
    "namesMatrix <- as.vector(numeric(length(namesList)), \"list\")\n",
    "names(namesMatrix) = namesList"
   ]
  },
  {
   "cell_type": "code",
   "execution_count": 10,
   "metadata": {},
   "outputs": [],
   "source": [
    "#Define function fillSparseMatrix to fill out and order each sample's matrix\n",
    "\n",
    "fillSparseMatrix <- function(inputMatrix, namesList) {\n",
    "    missingNames <- names(namesMatrix)[!names(namesMatrix) %in% names(inputMatrix[,1])]\n",
    "    missingNames\n",
    "    missingMatrix <- as.vector(numeric(length(missingNames)), \"list\")\n",
    "    names(missingMatrix) <- missingNames\n",
    "    fullInputMatrix <- do.call(cbind, c(inputMatrix[,1], missingMatrix))\n",
    "    fullInputMatrix <- fullInputMatrix[, order(names(fullInputMatrix[1,]))]\n",
    "    return(fullInputMatrix)\n",
    "}"
   ]
  },
  {
   "cell_type": "code",
   "execution_count": 11,
   "metadata": {},
   "outputs": [],
   "source": [
    "# Run fillSparseMatrix on all UMI samples\n",
    "for (sampleName in samplesList) {\n",
    "    eval(parse(text = paste0(sampleName, \" <- fillSparseMatrix(\", sampleName, \"_UMICounts)\")))\n",
    "}\n",
    "\n",
    "# Run fillSparseMatrix on Bulk\n",
    "    missingNames <- names(namesMatrix)[!names(namesMatrix) %in% names(bulkMatrix)]\n",
    "    missingMatrix <- as.vector(numeric(length(missingNames)), \"list\")\n",
    "    names(missingMatrix) <- missingNames\n",
    "    fullInputMatrix <- do.call(cbind, c(bulkMatrix, missingMatrix))\n",
    "    Bulk <- fullInputMatrix[, order(names(fullInputMatrix[1,]))]\n",
    "\n",
    "# Bind all filled matrices into final umiMatrix\n",
    "eval(parse(text = paste0(\"temp <- rbind(\", samplesList[1], \", \", samplesList[2], \")\")))\n",
    "\n",
    "for (i in 3:length(samplesList)) {\n",
    "    if (i == length(samplesList)) {\n",
    "        eval(parse(text = paste0(\"umiMatrix <- rbind(temp, \", samplesList[i], \")\")))\n",
    "    } else {\n",
    "        eval(parse(text = paste0(\"temp <- rbind(temp, \", samplesList[i], \")\")))\n",
    "    }\n",
    "}\n",
    "\n",
    "umiMatrix <- t(umiMatrix)"
   ]
  },
  {
   "cell_type": "code",
   "execution_count": 12,
   "metadata": {},
   "outputs": [],
   "source": [
    "# Run fillSparseMatrix on all readcount samples\n",
    "for (sampleName in samplesList) {\n",
    "    eval(parse(text = paste0(sampleName, \" <- fillSparseMatrix(\", sampleName, \"_ReadCounts)\")))\n",
    "}\n",
    "\n",
    "# Bind all filled matrices into final umiMatrix\n",
    "eval(parse(text = paste0(\"temp <- rbind(\", samplesList[1], \", \", samplesList[2], \")\")))\n",
    "\n",
    "for (i in 3:length(samplesList)) {\n",
    "    if (i == length(samplesList)) {\n",
    "        eval(parse(text = paste0(\"readMatrix <- rbind(temp, \", samplesList[i], \")\")))\n",
    "    } else {\n",
    "        eval(parse(text = paste0(\"temp <- rbind(temp, \", samplesList[i], \")\")))\n",
    "    }\n",
    "}\n",
    "\n",
    "readMatrix <- t(readMatrix)"
   ]
  },
  {
   "cell_type": "markdown",
   "metadata": {},
   "source": [
    "_____"
   ]
  },
  {
   "cell_type": "markdown",
   "metadata": {},
   "source": [
    "# Pull GC and Length Genomic Information"
   ]
  },
  {
   "cell_type": "code",
   "execution_count": 13,
   "metadata": {
    "code_folding": []
   },
   "outputs": [],
   "source": [
    "# Pull txdb info from Ensembl directly\n",
    "# txdb <- makeTxDbFromEnsembl(organism=\"Homo sapiens\",\n",
    "#                     release=NA,\n",
    "#                     circ_seqs=DEFAULT_CIRC_SEQS,\n",
    "#                     server=\"ensembldb.ensembl.org\")"
   ]
  },
  {
   "cell_type": "code",
   "execution_count": 14,
   "metadata": {},
   "outputs": [],
   "source": [
    "# Pull txdb info from saved sqlite of Ensembl database\n",
    "setwd('C:/Users/tyler/OneDrive/Streets Lab/Jupyter/')\n",
    "txdb <- loadDb(\"ensemblTxdb.sqlite\")"
   ]
  },
  {
   "cell_type": "code",
   "execution_count": 15,
   "metadata": {},
   "outputs": [],
   "source": [
    "# Get transcripts by Gene, tidy for only Chr1-22, X, Y, MT \n",
    "tx_by_gene <- transcriptsBy(txdb, 'gene')\n",
    "rm(txdb)\n",
    "genome <- getBSgenome(\"GRCh38\")\n",
    "seqlevels(tx_by_gene, pruning.mode = \"tidy\") <- c('1', '2', '3', '4', '5', '6', '7', '8', '9', '10', '11', '12', '13', '14', '15', '16', '17', '18', '19', '20', '21', '22', 'X', 'Y', 'MT')\n",
    "genome(tx_by_gene) <- \"GRCh38\""
   ]
  },
  {
   "cell_type": "code",
   "execution_count": 16,
   "metadata": {},
   "outputs": [],
   "source": [
    "# Extract the transcript sequences grouped by gene:\n",
    "txseq_by_gene <- getSeq(genome, tx_by_gene)\n",
    "rm(tx_by_gene)\n",
    "# Compute the transcript GC, AT, and total nucleotide counts grouped by gene:\n",
    "af <- alphabetFrequency(unlist(txseq_by_gene, use.names=FALSE), baseOnly=TRUE)\n",
    "txGCcount_by_gene <- relist(af[ , \"C\"] + af[ , \"G\"], txseq_by_gene)\n",
    "txlength_by_gene <- relist(af[ , \"C\"] + af[ , \"G\"] + af[,\"A\"] + af[,\"T\"], txseq_by_gene)\n",
    "txATcount_by_gene <- relist(af[,\"A\"] + af[,\"T\"], txseq_by_gene)\n",
    "rm(af)"
   ]
  },
  {
   "cell_type": "code",
   "execution_count": 17,
   "metadata": {
    "scrolled": true
   },
   "outputs": [],
   "source": [
    "# Create dataframe with %GC and length by Ensembl ID\n",
    "geneData <- as.data.frame(txGCcount_by_gene)\n",
    "colnames(geneData)[colnames(geneData)==\"value\"] <- \"GC_count\"\n",
    "colnames(geneData)[colnames(geneData)==\"group_name\"] <- \"Ensembl ID\"\n",
    "geneData$Length = as.data.frame(txlength_by_gene)[,'value']\n",
    "geneData$GC = geneData$GC_count / geneData$Length\n",
    "geneData <- geneData[,-which(names(geneData) %in% c('group', 'GC_count'))]\n",
    "geneData <- split(geneData, geneData$'Ensembl ID')"
   ]
  },
  {
   "cell_type": "markdown",
   "metadata": {},
   "source": [
    "____"
   ]
  },
  {
   "cell_type": "markdown",
   "metadata": {},
   "source": [
    "## Convert Matrices to Tibbles for Visualization"
   ]
  },
  {
   "cell_type": "code",
   "execution_count": null,
   "metadata": {},
   "outputs": [],
   "source": [
    "# Create umiTibble and readTibble\n",
    "\n",
    "# Number of genedata variables (e.g. Ensembl ID, Gene Symbol, etc.)\n",
    "numGeneData <- 12\n",
    "\n",
    "# Create and fill umiTibble and readTibble\n",
    "umiTibble <- tibble('Ensembl ID' = names(umiMatrix[,1]))\n",
    "readTibble <- tibble('Ensembl ID' = names(readMatrix[,1]))\n",
    "for (ID in names(umiMatrix[,1])) {\n",
    "    ti <- umiTibble[,1] == ID\n",
    "    gi <- dedup_grch38[,1] == ID\n",
    "    \n",
    "    # Input basic GRCh38 Gene Data\n",
    "    if (sum(gi) != 0) {\n",
    "        umiTibble[ti, 'Gene Symbol'] <- dedup_grch38[gi, \"symbol\"]\n",
    "        umiTibble[ti, 'Biotype'] <- dedup_grch38[gi, \"biotype\"]\n",
    "        umiTibble[ti, 'Description'] <- dedup_grch38[gi, \"description\"]\n",
    "        readTibble[ti, 'Gene Symbol'] <- dedup_grch38[gi, \"symbol\"]\n",
    "        readTibble[ti, 'Biotype'] <- dedup_grch38[gi, \"biotype\"]\n",
    "        readTibble[ti, 'Description'] <- dedup_grch38[gi, \"description\"]\n",
    "    } else {\n",
    "        umiTibble[ti, 'Gene Symbol'] <- NA\n",
    "        umiTibble[ti, 'Biotype'] <- NA\n",
    "        umiTibble[ti, 'Description'] <- NA\n",
    "        readTibble[ti, 'Gene Symbol'] <- NA\n",
    "        readTibble[ti, 'Biotype'] <- NA\n",
    "        readTibble[ti, 'Description'] <- NA\n",
    "    }\n",
    "    \n",
    "    # Input gene and transcript-level data\n",
    "    if (eval(parse(text = paste0('is.null(geneData$', ID, ')')))) {\n",
    "        umiTibble[ti, 'MaxLen'] <- NA\n",
    "        umiTibble[ti, 'MinLen'] <- NA\n",
    "        umiTibble[ti, 'MeanLen'] <- NA\n",
    "        umiTibble[ti, 'MedianLen'] <- NA\n",
    "        umiTibble[ti, 'MaxGC'] <- NA\n",
    "        umiTibble[ti, 'MinGC'] <- NA\n",
    "        umiTibble[ti, 'MeanGC'] <- NA\n",
    "        umiTibble[ti, 'MedianGC'] <- NA\n",
    "        \n",
    "        readTibble[ti, 'MaxLen'] <- NA\n",
    "        readTibble[ti, 'MinLen'] <- NA\n",
    "        readTibble[ti, 'MeanLen'] <- NA\n",
    "        readTibble[ti, 'MedianLen'] <- NA\n",
    "        readTibble[ti, 'MaxGC'] <- NA\n",
    "        readTibble[ti, 'MinGC'] <- NA\n",
    "        readTibble[ti, 'MeanGC'] <- NA\n",
    "        readTibble[ti, 'MedianGC'] <- NA\n",
    "    } else {\n",
    "        umiTibble[ti, 'MaxLen'] <- eval(parse(text = paste0('max(geneData$', ID, '[,\"Length\"])')))\n",
    "        umiTibble[ti, 'MinLen'] <- eval(parse(text = paste0('min(geneData$', ID, '[,\"Length\"])')))\n",
    "        umiTibble[ti, 'MeanLen'] <- eval(parse(text = paste0('mean(geneData$', ID, '[,\"Length\"])')))\n",
    "        umiTibble[ti, 'MedianLen'] <- eval(parse(text = paste0('median(geneData$', ID, '[,\"Length\"])')))\n",
    "        umiTibble[ti, 'MaxGC'] <- eval(parse(text = paste0('max(geneData$', ID, '[,\"GC\"])')))\n",
    "        umiTibble[ti, 'MinGC'] <- eval(parse(text = paste0('min(geneData$', ID, '[,\"GC\"])')))\n",
    "        umiTibble[ti, 'MeanGC'] <- eval(parse(text = paste0('mean(geneData$', ID, '[,\"GC\"])')))\n",
    "        umiTibble[ti, 'MedianGC'] <- eval(parse(text = paste0('median(geneData$', ID, '[,\"GC\"])')))\n",
    "        \n",
    "        readTibble[ti, 'MaxLen'] <- eval(parse(text = paste0('max(geneData$', ID, '[,\"Length\"])')))\n",
    "        readTibble[ti, 'MinLen'] <- eval(parse(text = paste0('min(geneData$', ID, '[,\"Length\"])')))\n",
    "        readTibble[ti, 'MeanLen'] <- eval(parse(text = paste0('mean(geneData$', ID, '[,\"Length\"])')))\n",
    "        readTibble[ti, 'MedianLen'] <- eval(parse(text = paste0('median(geneData$', ID, '[,\"Length\"])')))\n",
    "        readTibble[ti, 'MaxGC'] <- eval(parse(text = paste0('max(geneData$', ID, '[,\"GC\"])')))\n",
    "        readTibble[ti, 'MinGC'] <- eval(parse(text = paste0('min(geneData$', ID, '[,\"GC\"])')))\n",
    "        readTibble[ti, 'MeanGC'] <- eval(parse(text = paste0('mean(geneData$', ID, '[,\"GC\"])')))\n",
    "        readTibble[ti, 'MedianGC'] <- eval(parse(text = paste0('median(geneData$', ID, '[,\"GC\"])')))\n",
    "    }\n",
    "}\n",
    "\n",
    "# Add samples into Tibble\n",
    "for (i in 1:length(samplesList)) {\n",
    "    eval(parse(text = paste0('umiTibble$', samplesList[i], \" = umiMatrix[,i]\")))\n",
    "    eval(parse(text = paste0('readTibble$', samplesList[i], \" = readMatrix[,i]\")))    \n",
    "}"
   ]
  },
  {
   "cell_type": "code",
   "execution_count": null,
   "metadata": {},
   "outputs": [],
   "source": [
    "# Add Summary Data (including bulk data) into Tibble\n",
    "numSummaryData <- 1\n",
    "\n",
    "# Add Bulk HEK Counts into Tibble\n",
    "umiTibble$Bulk = Bulk"
   ]
  },
  {
   "cell_type": "code",
   "execution_count": null,
   "metadata": {},
   "outputs": [],
   "source": [
    "# View umiTibble \n",
    "umiTibble\n",
    "readTibble"
   ]
  },
  {
   "cell_type": "code",
   "execution_count": null,
   "metadata": {},
   "outputs": [],
   "source": [
    "# write.table(umiTibble, file = 'umiTibble_uCBSeqImaging.csv', append = FALSE, sep = \",\", row.names = FALSE)"
   ]
  },
  {
   "cell_type": "code",
   "execution_count": 100,
   "metadata": {},
   "outputs": [],
   "source": [
    "# Remove rRNA from Tibble\n",
    "# mtRNALocationUMI <- which(umiTibble$Biotype == 'Mt_rRNA')\n",
    "# umiTibble <- umiTibble[-mtRNALocationUMI,]\n",
    "\n",
    "# mtRNALocationRead <- which(readTibble$Biotype == 'Mt_rRNA')\n",
    "# readTibble <- readTibble[-mtRNALocationRead,]"
   ]
  },
  {
   "cell_type": "code",
   "execution_count": 101,
   "metadata": {
    "code_folding": [
     0
    ]
   },
   "outputs": [],
   "source": [
    "# # Search for Genes of Interest\n",
    "# umiTibble[which(umiTibble$'Gene Symbol' == 'ACTB'),]\n",
    "# umiTibble[umiTibble$'Gene Symbol' == 'PGK1',]\n",
    "# umiTibble[umiTibble$'Gene Symbol' == 'PPIA',]\n"
   ]
  },
  {
   "cell_type": "markdown",
   "metadata": {},
   "source": [
    "_______"
   ]
  }
 ],
 "metadata": {
  "kernelspec": {
   "display_name": "R",
   "language": "R",
   "name": "ir"
  },
  "language_info": {
   "codemirror_mode": "r",
   "file_extension": ".r",
   "mimetype": "text/x-r-source",
   "name": "R",
   "pygments_lexer": "r",
   "version": "3.6.1"
  }
 },
 "nbformat": 4,
 "nbformat_minor": 2
}
